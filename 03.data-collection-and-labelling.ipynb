{
  "nbformat": 4,
  "nbformat_minor": 0,
  "metadata": {
    "colab": {
      "name": "03.data-collection-and-labelling.ipynb",
      "provenance": [],
      "collapsed_sections": [],
      "toc_visible": true,
      "authorship_tag": "ABX9TyOPS5wCKoSs60UtR5RxeAh7"
    },
    "kernelspec": {
      "name": "python3",
      "display_name": "Python 3"
    }
  },
  "cells": [
    {
      "cell_type": "markdown",
      "metadata": {
        "id": "4Yv4ImRxwP0L"
      },
      "source": [
        "## Get the data\n",
        "\n",
        "Real-world data tends to occupy relational databases and Amazon S3 buckets. You better brush off your SQL and file processing skills. Luckily, languages like Python have a wide variety of helpers (both built-in and as external packages).\n",
        "\n",
        "Working with raw files require an understanding of how text and image files are stored, can be loaded and shown.\n",
        "\n",
        "### Start with a sample\n",
        "\n",
        "Get 10 or 100 examples. Try to get somewhat of a representative subset of the data, but don't try too hard - a simple random subset will do (for now).\n",
        "\n",
        "### Request more data\n",
        "\n",
        "Some additional data can be easily stored for you. How easy would it be to get that done? Can someone else do it for you?"
      ]
    },
    {
      "cell_type": "markdown",
      "metadata": {
        "id": "zJzdSLvwF_LW"
      },
      "source": [
        "## Data from a relational database\n",
        "\n",
        "One easy way to deal with data stored in a database is to use a tool to extract what you need and convert it to a Pandas data frame.\n",
        "\n",
        "We'll use data provided by OSMI (Open Source Mental Illness) on mental health in the tech industry. It contains surveys on mental health disorders and their frequency through the industry. Let's download it:"
      ]
    },
    {
      "cell_type": "code",
      "metadata": {
        "id": "VZTk7tjcR6-U"
      },
      "source": [
        "!wget -q https://github.com/curiousily/Hackers-Guide-to-Deep-Learning/raw/master/data/mental_health.sqlite"
      ],
      "execution_count": 1,
      "outputs": []
    },
    {
      "cell_type": "markdown",
      "metadata": {
        "id": "VZ6ke6C2R95O"
      },
      "source": [
        "The SQLite file contains data that is similar to what you might have in your production systems. Let's load it and see what tables it contains:"
      ]
    },
    {
      "cell_type": "code",
      "metadata": {
        "colab": {
          "base_uri": "https://localhost:8080/"
        },
        "id": "FIXQr0iMLEyW",
        "outputId": "d43d667f-56e7-414b-f8fb-f5c9274e8e66"
      },
      "source": [
        "from sqlalchemy import create_engine\n",
        "\n",
        "db_engine = create_engine(\"sqlite:///mental_health.sqlite\")\n",
        "\n",
        "db_engine.table_names()"
      ],
      "execution_count": 2,
      "outputs": [
        {
          "output_type": "execute_result",
          "data": {
            "text/plain": [
              "['Answer', 'Question', 'Survey']"
            ]
          },
          "metadata": {
            "tags": []
          },
          "execution_count": 2
        }
      ]
    },
    {
      "cell_type": "markdown",
      "metadata": {
        "id": "62_ocslmTSdW"
      },
      "source": [
        "We can use Pandas to look at a sample of each data:"
      ]
    },
    {
      "cell_type": "code",
      "metadata": {
        "colab": {
          "base_uri": "https://localhost:8080/",
          "height": 204
        },
        "id": "6TEtFInGTTSY",
        "outputId": "97ebec75-f759-4a99-cbce-d1e9eb9ea55d"
      },
      "source": [
        "import pandas as pd\n",
        "\n",
        "pd.read_sql(\"SELECT * FROM Answer LIMIT 5\", db_engine)"
      ],
      "execution_count": 3,
      "outputs": [
        {
          "output_type": "execute_result",
          "data": {
            "text/html": [
              "<div>\n",
              "<style scoped>\n",
              "    .dataframe tbody tr th:only-of-type {\n",
              "        vertical-align: middle;\n",
              "    }\n",
              "\n",
              "    .dataframe tbody tr th {\n",
              "        vertical-align: top;\n",
              "    }\n",
              "\n",
              "    .dataframe thead th {\n",
              "        text-align: right;\n",
              "    }\n",
              "</style>\n",
              "<table border=\"1\" class=\"dataframe\">\n",
              "  <thead>\n",
              "    <tr style=\"text-align: right;\">\n",
              "      <th></th>\n",
              "      <th>AnswerText</th>\n",
              "      <th>SurveyID</th>\n",
              "      <th>UserID</th>\n",
              "      <th>QuestionID</th>\n",
              "    </tr>\n",
              "  </thead>\n",
              "  <tbody>\n",
              "    <tr>\n",
              "      <th>0</th>\n",
              "      <td>37</td>\n",
              "      <td>2014</td>\n",
              "      <td>1</td>\n",
              "      <td>1</td>\n",
              "    </tr>\n",
              "    <tr>\n",
              "      <th>1</th>\n",
              "      <td>44</td>\n",
              "      <td>2014</td>\n",
              "      <td>2</td>\n",
              "      <td>1</td>\n",
              "    </tr>\n",
              "    <tr>\n",
              "      <th>2</th>\n",
              "      <td>32</td>\n",
              "      <td>2014</td>\n",
              "      <td>3</td>\n",
              "      <td>1</td>\n",
              "    </tr>\n",
              "    <tr>\n",
              "      <th>3</th>\n",
              "      <td>31</td>\n",
              "      <td>2014</td>\n",
              "      <td>4</td>\n",
              "      <td>1</td>\n",
              "    </tr>\n",
              "    <tr>\n",
              "      <th>4</th>\n",
              "      <td>31</td>\n",
              "      <td>2014</td>\n",
              "      <td>5</td>\n",
              "      <td>1</td>\n",
              "    </tr>\n",
              "  </tbody>\n",
              "</table>\n",
              "</div>"
            ],
            "text/plain": [
              "  AnswerText  SurveyID  UserID  QuestionID\n",
              "0         37      2014       1           1\n",
              "1         44      2014       2           1\n",
              "2         32      2014       3           1\n",
              "3         31      2014       4           1\n",
              "4         31      2014       5           1"
            ]
          },
          "metadata": {
            "tags": []
          },
          "execution_count": 3
        }
      ]
    },
    {
      "cell_type": "code",
      "metadata": {
        "colab": {
          "base_uri": "https://localhost:8080/",
          "height": 204
        },
        "id": "WOmcPvyOTg9u",
        "outputId": "019b008f-d7e1-4a63-9e92-45bf2ef5f50d"
      },
      "source": [
        "pd.read_sql(\"SELECT * FROM Question LIMIT 5\", db_engine)"
      ],
      "execution_count": 4,
      "outputs": [
        {
          "output_type": "execute_result",
          "data": {
            "text/html": [
              "<div>\n",
              "<style scoped>\n",
              "    .dataframe tbody tr th:only-of-type {\n",
              "        vertical-align: middle;\n",
              "    }\n",
              "\n",
              "    .dataframe tbody tr th {\n",
              "        vertical-align: top;\n",
              "    }\n",
              "\n",
              "    .dataframe thead th {\n",
              "        text-align: right;\n",
              "    }\n",
              "</style>\n",
              "<table border=\"1\" class=\"dataframe\">\n",
              "  <thead>\n",
              "    <tr style=\"text-align: right;\">\n",
              "      <th></th>\n",
              "      <th>questiontext</th>\n",
              "      <th>questionid</th>\n",
              "    </tr>\n",
              "  </thead>\n",
              "  <tbody>\n",
              "    <tr>\n",
              "      <th>0</th>\n",
              "      <td>What is your age?</td>\n",
              "      <td>1</td>\n",
              "    </tr>\n",
              "    <tr>\n",
              "      <th>1</th>\n",
              "      <td>What is your gender?</td>\n",
              "      <td>2</td>\n",
              "    </tr>\n",
              "    <tr>\n",
              "      <th>2</th>\n",
              "      <td>What country do you live in?</td>\n",
              "      <td>3</td>\n",
              "    </tr>\n",
              "    <tr>\n",
              "      <th>3</th>\n",
              "      <td>If you live in the United States, which state ...</td>\n",
              "      <td>4</td>\n",
              "    </tr>\n",
              "    <tr>\n",
              "      <th>4</th>\n",
              "      <td>Are you self-employed?</td>\n",
              "      <td>5</td>\n",
              "    </tr>\n",
              "  </tbody>\n",
              "</table>\n",
              "</div>"
            ],
            "text/plain": [
              "                                        questiontext  questionid\n",
              "0                                  What is your age?           1\n",
              "1                               What is your gender?           2\n",
              "2                       What country do you live in?           3\n",
              "3  If you live in the United States, which state ...           4\n",
              "4                             Are you self-employed?           5"
            ]
          },
          "metadata": {
            "tags": []
          },
          "execution_count": 4
        }
      ]
    },
    {
      "cell_type": "code",
      "metadata": {
        "colab": {
          "base_uri": "https://localhost:8080/",
          "height": 204
        },
        "id": "AB1OyuGATw28",
        "outputId": "a7a4ca37-f925-4a84-a148-c58a657aa155"
      },
      "source": [
        "pd.read_sql(\"SELECT * FROM Survey LIMIT 5\", db_engine)"
      ],
      "execution_count": 5,
      "outputs": [
        {
          "output_type": "execute_result",
          "data": {
            "text/html": [
              "<div>\n",
              "<style scoped>\n",
              "    .dataframe tbody tr th:only-of-type {\n",
              "        vertical-align: middle;\n",
              "    }\n",
              "\n",
              "    .dataframe tbody tr th {\n",
              "        vertical-align: top;\n",
              "    }\n",
              "\n",
              "    .dataframe thead th {\n",
              "        text-align: right;\n",
              "    }\n",
              "</style>\n",
              "<table border=\"1\" class=\"dataframe\">\n",
              "  <thead>\n",
              "    <tr style=\"text-align: right;\">\n",
              "      <th></th>\n",
              "      <th>SurveyID</th>\n",
              "      <th>Description</th>\n",
              "    </tr>\n",
              "  </thead>\n",
              "  <tbody>\n",
              "    <tr>\n",
              "      <th>0</th>\n",
              "      <td>2014</td>\n",
              "      <td>mental health survey for 2014</td>\n",
              "    </tr>\n",
              "    <tr>\n",
              "      <th>1</th>\n",
              "      <td>2016</td>\n",
              "      <td>mental health survey for 2016</td>\n",
              "    </tr>\n",
              "    <tr>\n",
              "      <th>2</th>\n",
              "      <td>2017</td>\n",
              "      <td>mental health survey for 2017</td>\n",
              "    </tr>\n",
              "    <tr>\n",
              "      <th>3</th>\n",
              "      <td>2018</td>\n",
              "      <td>mental health survey for 2018</td>\n",
              "    </tr>\n",
              "    <tr>\n",
              "      <th>4</th>\n",
              "      <td>2019</td>\n",
              "      <td>mental health survey for 2019</td>\n",
              "    </tr>\n",
              "  </tbody>\n",
              "</table>\n",
              "</div>"
            ],
            "text/plain": [
              "   SurveyID                    Description\n",
              "0      2014  mental health survey for 2014\n",
              "1      2016  mental health survey for 2016\n",
              "2      2017  mental health survey for 2017\n",
              "3      2018  mental health survey for 2018\n",
              "4      2019  mental health survey for 2019"
            ]
          },
          "metadata": {
            "tags": []
          },
          "execution_count": 5
        }
      ]
    },
    {
      "cell_type": "markdown",
      "metadata": {
        "id": "Ksp0VYLfWLr1"
      },
      "source": [
        "Pretty straight forward, we have questions and answers from different people.\n",
        "\n",
        "Ideally, we would want all of this into a single data frame. We can use a simple JOIN to get that. Note that we don't need the Survey table."
      ]
    },
    {
      "cell_type": "code",
      "metadata": {
        "colab": {
          "base_uri": "https://localhost:8080/",
          "height": 204
        },
        "id": "Vs-VjDz-W04p",
        "outputId": "eb7760f8-eb8c-47aa-f170-f4984ba793f4"
      },
      "source": [
        "sql_statement = \"\"\"\n",
        "  SELECT Answer.*, Question.questiontext\n",
        "  FROM Answer\n",
        "  INNER JOIN Question ON Answer.QuestionID=Question.questionid\n",
        "\"\"\"\n",
        "survey_df = pd.read_sql(sql_statement, db_engine)\n",
        "survey_df.head()"
      ],
      "execution_count": 6,
      "outputs": [
        {
          "output_type": "execute_result",
          "data": {
            "text/html": [
              "<div>\n",
              "<style scoped>\n",
              "    .dataframe tbody tr th:only-of-type {\n",
              "        vertical-align: middle;\n",
              "    }\n",
              "\n",
              "    .dataframe tbody tr th {\n",
              "        vertical-align: top;\n",
              "    }\n",
              "\n",
              "    .dataframe thead th {\n",
              "        text-align: right;\n",
              "    }\n",
              "</style>\n",
              "<table border=\"1\" class=\"dataframe\">\n",
              "  <thead>\n",
              "    <tr style=\"text-align: right;\">\n",
              "      <th></th>\n",
              "      <th>AnswerText</th>\n",
              "      <th>SurveyID</th>\n",
              "      <th>UserID</th>\n",
              "      <th>QuestionID</th>\n",
              "      <th>questiontext</th>\n",
              "    </tr>\n",
              "  </thead>\n",
              "  <tbody>\n",
              "    <tr>\n",
              "      <th>0</th>\n",
              "      <td>37</td>\n",
              "      <td>2014</td>\n",
              "      <td>1</td>\n",
              "      <td>1</td>\n",
              "      <td>What is your age?</td>\n",
              "    </tr>\n",
              "    <tr>\n",
              "      <th>1</th>\n",
              "      <td>44</td>\n",
              "      <td>2014</td>\n",
              "      <td>2</td>\n",
              "      <td>1</td>\n",
              "      <td>What is your age?</td>\n",
              "    </tr>\n",
              "    <tr>\n",
              "      <th>2</th>\n",
              "      <td>32</td>\n",
              "      <td>2014</td>\n",
              "      <td>3</td>\n",
              "      <td>1</td>\n",
              "      <td>What is your age?</td>\n",
              "    </tr>\n",
              "    <tr>\n",
              "      <th>3</th>\n",
              "      <td>31</td>\n",
              "      <td>2014</td>\n",
              "      <td>4</td>\n",
              "      <td>1</td>\n",
              "      <td>What is your age?</td>\n",
              "    </tr>\n",
              "    <tr>\n",
              "      <th>4</th>\n",
              "      <td>31</td>\n",
              "      <td>2014</td>\n",
              "      <td>5</td>\n",
              "      <td>1</td>\n",
              "      <td>What is your age?</td>\n",
              "    </tr>\n",
              "  </tbody>\n",
              "</table>\n",
              "</div>"
            ],
            "text/plain": [
              "  AnswerText  SurveyID  UserID  QuestionID       questiontext\n",
              "0         37      2014       1           1  What is your age?\n",
              "1         44      2014       2           1  What is your age?\n",
              "2         32      2014       3           1  What is your age?\n",
              "3         31      2014       4           1  What is your age?\n",
              "4         31      2014       5           1  What is your age?"
            ]
          },
          "metadata": {
            "tags": []
          },
          "execution_count": 6
        }
      ]
    },
    {
      "cell_type": "markdown",
      "metadata": {
        "id": "t_ht2cG0DYEN"
      },
      "source": [
        "We can do ourselves a favor and make this easier to read/work with:"
      ]
    },
    {
      "cell_type": "code",
      "metadata": {
        "colab": {
          "base_uri": "https://localhost:8080/",
          "height": 204
        },
        "id": "672lPMAgBNac",
        "outputId": "12613f39-d93e-4534-f653-04c2f3275bd5"
      },
      "source": [
        "survey_df.columns = [\"answer\", \"survey_year\", \"user_id\", \"question_id\", \"question\"]\n",
        "survey_df = survey_df[[\"question\", \"answer\", \"user_id\", \"survey_year\", \"question_id\"]]\n",
        "survey_df.head()"
      ],
      "execution_count": 18,
      "outputs": [
        {
          "output_type": "execute_result",
          "data": {
            "text/html": [
              "<div>\n",
              "<style scoped>\n",
              "    .dataframe tbody tr th:only-of-type {\n",
              "        vertical-align: middle;\n",
              "    }\n",
              "\n",
              "    .dataframe tbody tr th {\n",
              "        vertical-align: top;\n",
              "    }\n",
              "\n",
              "    .dataframe thead th {\n",
              "        text-align: right;\n",
              "    }\n",
              "</style>\n",
              "<table border=\"1\" class=\"dataframe\">\n",
              "  <thead>\n",
              "    <tr style=\"text-align: right;\">\n",
              "      <th></th>\n",
              "      <th>question</th>\n",
              "      <th>answer</th>\n",
              "      <th>user_id</th>\n",
              "      <th>survey_year</th>\n",
              "      <th>question_id</th>\n",
              "    </tr>\n",
              "  </thead>\n",
              "  <tbody>\n",
              "    <tr>\n",
              "      <th>0</th>\n",
              "      <td>What is your age?</td>\n",
              "      <td>37</td>\n",
              "      <td>1</td>\n",
              "      <td>2014</td>\n",
              "      <td>1</td>\n",
              "    </tr>\n",
              "    <tr>\n",
              "      <th>1</th>\n",
              "      <td>What is your age?</td>\n",
              "      <td>44</td>\n",
              "      <td>2</td>\n",
              "      <td>2014</td>\n",
              "      <td>1</td>\n",
              "    </tr>\n",
              "    <tr>\n",
              "      <th>2</th>\n",
              "      <td>What is your age?</td>\n",
              "      <td>32</td>\n",
              "      <td>3</td>\n",
              "      <td>2014</td>\n",
              "      <td>1</td>\n",
              "    </tr>\n",
              "    <tr>\n",
              "      <th>3</th>\n",
              "      <td>What is your age?</td>\n",
              "      <td>31</td>\n",
              "      <td>4</td>\n",
              "      <td>2014</td>\n",
              "      <td>1</td>\n",
              "    </tr>\n",
              "    <tr>\n",
              "      <th>4</th>\n",
              "      <td>What is your age?</td>\n",
              "      <td>31</td>\n",
              "      <td>5</td>\n",
              "      <td>2014</td>\n",
              "      <td>1</td>\n",
              "    </tr>\n",
              "  </tbody>\n",
              "</table>\n",
              "</div>"
            ],
            "text/plain": [
              "            question answer  user_id  survey_year  question_id\n",
              "0  What is your age?     37        1         2014            1\n",
              "1  What is your age?     44        2         2014            1\n",
              "2  What is your age?     32        3         2014            1\n",
              "3  What is your age?     31        4         2014            1\n",
              "4  What is your age?     31        5         2014            1"
            ]
          },
          "metadata": {
            "tags": []
          },
          "execution_count": 18
        }
      ]
    },
    {
      "cell_type": "markdown",
      "metadata": {
        "id": "cqKlXFJibjXa"
      },
      "source": [
        "You can use this same technique for datasets with millions of rows to get a regular Pandas data frame and go from there."
      ]
    },
    {
      "cell_type": "markdown",
      "metadata": {
        "id": "LCIfubtEdLeS"
      },
      "source": [
        "## Text data\n",
        "\n",
        "Working with text requires a way of converting words, subwords or characters into numbers. This process is known as tokenization. The [Tokenizers](https://huggingface.co/docs/tokenizers) library by Huggingface provides an easy way to train a custom tokenizer or use a prebuilt one.\n",
        "\n",
        "Let's install the library and download the required vocabulary for one of the prebuilt tokenizers:"
      ]
    },
    {
      "cell_type": "code",
      "metadata": {
        "id": "BcvWMJPr9DQK"
      },
      "source": [
        "!pip install -q tokenizers==0.9.4\n",
        "!wget -q https://s3.amazonaws.com/models.huggingface.co/bert/bert-base-uncased-vocab.txt"
      ],
      "execution_count": 9,
      "outputs": []
    },
    {
      "cell_type": "markdown",
      "metadata": {
        "id": "mZI90xiWHxdh"
      },
      "source": [
        "To create a tokenizer, we need to pass the vocabulary file:"
      ]
    },
    {
      "cell_type": "code",
      "metadata": {
        "id": "kBDa0CiBASBZ"
      },
      "source": [
        "from tokenizers import BertWordPieceTokenizer\n",
        "\n",
        "tokenizer = BertWordPieceTokenizer(\"bert-base-uncased-vocab.txt\", lowercase=True)"
      ],
      "execution_count": 16,
      "outputs": []
    },
    {
      "cell_type": "markdown",
      "metadata": {
        "id": "MnmR-ZQ_IGQB"
      },
      "source": [
        "We can pick a question text from the dataset seen previously:"
      ]
    },
    {
      "cell_type": "code",
      "metadata": {
        "colab": {
          "base_uri": "https://localhost:8080/",
          "height": 35
        },
        "id": "qnZPPUDfB5Ya",
        "outputId": "7643508e-25d6-407a-87f8-0915c065324d"
      },
      "source": [
        "sample_question_text = survey_df.iloc[0].question\n",
        "sample_question_text"
      ],
      "execution_count": 22,
      "outputs": [
        {
          "output_type": "execute_result",
          "data": {
            "application/vnd.google.colaboratory.intrinsic+json": {
              "type": "string"
            },
            "text/plain": [
              "'What is your age?'"
            ]
          },
          "metadata": {
            "tags": []
          },
          "execution_count": 22
        }
      ]
    },
    {
      "cell_type": "markdown",
      "metadata": {
        "id": "fohQrIeQIMKN"
      },
      "source": [
        "And encode it:"
      ]
    },
    {
      "cell_type": "code",
      "metadata": {
        "colab": {
          "base_uri": "https://localhost:8080/"
        },
        "id": "D6PZcwy_BJnQ",
        "outputId": "f3e587e2-ee66-4d28-fa7e-42e4a76cb5c5"
      },
      "source": [
        "encoding = tokenizer.encode(sample_question_text)\n",
        "encoding.ids, encoding.tokens"
      ],
      "execution_count": 30,
      "outputs": [
        {
          "output_type": "execute_result",
          "data": {
            "text/plain": [
              "([101, 2054, 2003, 2115, 2287, 1029, 102],\n",
              " ['[CLS]', 'what', 'is', 'your', 'age', '?', '[SEP]'])"
            ]
          },
          "metadata": {
            "tags": []
          },
          "execution_count": 30
        }
      ]
    },
    {
      "cell_type": "markdown",
      "metadata": {
        "id": "XSCAnUSZKKM0"
      },
      "source": [
        "The encoded vector converts each token to its id. But we can also see that there are tokens that don't belong to our text. Those are specific to the model (BERT in this case) to which this tokenizer belongs.\n",
        "\n",
        "Using all this knowledge, we can build a simple function that converts text to a tensor:"
      ]
    },
    {
      "cell_type": "code",
      "metadata": {
        "colab": {
          "base_uri": "https://localhost:8080/"
        },
        "id": "fe8FZBstMURi",
        "outputId": "cc0d41d4-bac7-4201-dca1-099533a2b4be"
      },
      "source": [
        "import torch\n",
        "\n",
        "def text_to_tensor(text, tokenizer):\n",
        "  encoding = tokenizer.encode(text)\n",
        "  return torch.Tensor(encoding.ids)\n",
        "\n",
        "text_to_tensor(sample_question_text, tokenizer)"
      ],
      "execution_count": 37,
      "outputs": [
        {
          "output_type": "execute_result",
          "data": {
            "text/plain": [
              "tensor([ 101., 2054., 2003., 2115., 2287., 1029.,  102.])"
            ]
          },
          "metadata": {
            "tags": []
          },
          "execution_count": 37
        }
      ]
    },
    {
      "cell_type": "markdown",
      "metadata": {
        "id": "nESgublkRJI9"
      },
      "source": [
        "Of course, you might need something much more sophisticated, but this should get you started on a baseline text model."
      ]
    },
    {
      "cell_type": "markdown",
      "metadata": {
        "id": "RUMkNcTpdSJ5"
      },
      "source": [
        "## Image data"
      ]
    },
    {
      "cell_type": "markdown",
      "metadata": {
        "id": "VK9ONQRm1qmV"
      },
      "source": [
        "## Labelling\n",
        "\n",
        "Don't have enough or no data at all? You can create your own datasets! Yes, but that is not an easy task."
      ]
    },
    {
      "cell_type": "markdown",
      "metadata": {
        "id": "a7kfMBJxvIN-"
      },
      "source": [
        "## Look at the data"
      ]
    },
    {
      "cell_type": "markdown",
      "metadata": {
        "id": "eEOTqNmnumwd"
      },
      "source": [
        "## Is the data usable?"
      ]
    },
    {
      "cell_type": "markdown",
      "metadata": {
        "id": "V4NY9HIAwM49"
      },
      "source": [
        "## Splitting"
      ]
    },
    {
      "cell_type": "markdown",
      "metadata": {
        "id": "MMrtiUT9s2DB"
      },
      "source": [
        "## Versioning"
      ]
    },
    {
      "cell_type": "code",
      "metadata": {
        "id": "MIfgtMi6Rn2v"
      },
      "source": [
        "!pip install -q watermark\n",
        "%reload_ext watermark"
      ],
      "execution_count": null,
      "outputs": []
    },
    {
      "cell_type": "code",
      "metadata": {
        "colab": {
          "base_uri": "https://localhost:8080/"
        },
        "id": "-Mh1yWr9RlPL",
        "outputId": "97caaceb-9569-4bf6-b3ff-74a85eb7ef84"
      },
      "source": [
        "%watermark -p torch,sqlalchemy,tokenizers,pandas,numpy,scipy,sklearn"
      ],
      "execution_count": 55,
      "outputs": [
        {
          "output_type": "stream",
          "text": [
            "torch 1.7.0+cu101\n",
            "sqlalchemy 1.3.20\n",
            "tokenizers 0.9.4\n",
            "pandas 1.1.4\n",
            "numpy 1.18.5\n",
            "scipy 1.4.1\n",
            "sklearn 0.0\n"
          ],
          "name": "stdout"
        }
      ]
    }
  ]
}