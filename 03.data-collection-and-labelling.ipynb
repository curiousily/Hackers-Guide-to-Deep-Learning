{
  "nbformat": 4,
  "nbformat_minor": 0,
  "metadata": {
    "colab": {
      "name": "03.data-collection-and-labelling.ipynb",
      "provenance": [],
      "collapsed_sections": [],
      "authorship_tag": "ABX9TyOT35SczaFPbLWQ8Fn5tqkh"
    },
    "kernelspec": {
      "name": "python3",
      "display_name": "Python 3"
    }
  },
  "cells": [
    {
      "cell_type": "markdown",
      "metadata": {
        "id": "4Yv4ImRxwP0L"
      },
      "source": [
        "## Get the data\n",
        "\n",
        "Real-world data tends to occupy relational databases and Amazon S3 buckets. You better brush off your SQL and file processing skills. Luckily, languages like Python have a wide variety of helpers (both built-in and as external packages).\n",
        "\n",
        "Working with raw files require an understanding of how text and image files are stored, can be loaded and shown.\n",
        "\n",
        "### Start with a sample\n",
        "\n",
        "Get 10 or 100 examples. Try to get somewhat of a representative subset of the data, but don't try too hard - a simple random subset will do (for now).\n",
        "\n",
        "### Request more data\n",
        "\n",
        "Some additional data can be easily stored for you. How easy would it be to get that done? Can someone else do it for you?"
      ]
    },
    {
      "cell_type": "markdown",
      "metadata": {
        "id": "VK9ONQRm1qmV"
      },
      "source": [
        "## Labelling\n",
        "\n",
        "Don't have enough or no data at all? You can create your own datasets! Yes, but that is not an easy task."
      ]
    },
    {
      "cell_type": "markdown",
      "metadata": {
        "id": "a7kfMBJxvIN-"
      },
      "source": [
        "## Look at the data"
      ]
    },
    {
      "cell_type": "markdown",
      "metadata": {
        "id": "eEOTqNmnumwd"
      },
      "source": [
        "## Is the data clean?"
      ]
    },
    {
      "cell_type": "markdown",
      "metadata": {
        "id": "V4NY9HIAwM49"
      },
      "source": [
        "## Splitting"
      ]
    },
    {
      "cell_type": "markdown",
      "metadata": {
        "id": "MMrtiUT9s2DB"
      },
      "source": [
        "## Versioning"
      ]
    }
  ]
}