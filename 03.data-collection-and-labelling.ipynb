{
  "nbformat": 4,
  "nbformat_minor": 0,
  "metadata": {
    "colab": {
      "name": "03.data-collection-and-labelling.ipynb",
      "provenance": [],
      "collapsed_sections": [],
      "toc_visible": true,
      "authorship_tag": "ABX9TyOX3N7cSRZ+hAOZiI5GLU1h"
    },
    "kernelspec": {
      "name": "python3",
      "display_name": "Python 3"
    }
  },
  "cells": [
    {
      "cell_type": "markdown",
      "metadata": {
        "id": "4Yv4ImRxwP0L"
      },
      "source": [
        "## Get the data\n",
        "\n",
        "Real-world data tends to occupy relational databases and Amazon S3 buckets. You better brush off your SQL and file processing skills. Luckily, languages like Python have a wide variety of helpers (both built-in and as external packages).\n",
        "\n",
        "Working with raw files require an understanding of how text and image files are stored, can be loaded and shown.\n",
        "\n",
        "### Start with a sample\n",
        "\n",
        "Get 10 or 100 examples. Try to get somewhat of a representative subset of the data, but don't try too hard - a simple random subset will do (for now).\n",
        "\n",
        "### Request more data\n",
        "\n",
        "Some additional data can be easily stored for you. How easy would it be to get that done? Can someone else do it for you?"
      ]
    },
    {
      "cell_type": "markdown",
      "metadata": {
        "id": "zJzdSLvwF_LW"
      },
      "source": [
        "## Data from a relational database\n",
        "\n",
        "One easy way to deal with data stored in a database is to use a tool to extract what you need and convert it to a Pandas data frame.\n",
        "\n",
        "We'll use data provided by OSMI (Open Source Mental Illness) on mental health in the tech industry. It contains surveys on mental health disorders and their frequency through the industry. Let's download it:"
      ]
    },
    {
      "cell_type": "code",
      "metadata": {
        "id": "VZTk7tjcR6-U"
      },
      "source": [
        "!wget -q https://github.com/curiousily/Hackers-Guide-to-Deep-Learning/raw/master/data/mental_health.sqlite"
      ],
      "execution_count": 19,
      "outputs": []
    },
    {
      "cell_type": "markdown",
      "metadata": {
        "id": "VZ6ke6C2R95O"
      },
      "source": [
        "The SQLite file contains data that is similar to what you might have in your production systems. Let's load it and see what tables it contains:"
      ]
    },
    {
      "cell_type": "code",
      "metadata": {
        "colab": {
          "base_uri": "https://localhost:8080/"
        },
        "id": "FIXQr0iMLEyW",
        "outputId": "1e99db75-29a6-4e7c-8d45-2cd763addbb3"
      },
      "source": [
        "from sqlalchemy import create_engine\n",
        "from sqlalchemy.ext.declarative import declarative_base\n",
        "\n",
        "db_engine = create_engine(\"sqlite:///mental_health.sqlite\")\n",
        "\n",
        "db_engine.table_names()"
      ],
      "execution_count": 18,
      "outputs": [
        {
          "output_type": "execute_result",
          "data": {
            "text/plain": [
              "['Answer', 'Question', 'Survey']"
            ]
          },
          "metadata": {
            "tags": []
          },
          "execution_count": 18
        }
      ]
    },
    {
      "cell_type": "markdown",
      "metadata": {
        "id": "62_ocslmTSdW"
      },
      "source": [
        "We can use Pandas to look at a sample of each data:"
      ]
    },
    {
      "cell_type": "code",
      "metadata": {
        "colab": {
          "base_uri": "https://localhost:8080/",
          "height": 204
        },
        "id": "6TEtFInGTTSY",
        "outputId": "eb7e0622-4f31-450b-d843-4565b6979482"
      },
      "source": [
        "import pandas as pd\n",
        "\n",
        "pd.read_sql(\"SELECT * FROM Answer LIMIT 5\", db_engine)"
      ],
      "execution_count": 22,
      "outputs": [
        {
          "output_type": "execute_result",
          "data": {
            "text/html": [
              "<div>\n",
              "<style scoped>\n",
              "    .dataframe tbody tr th:only-of-type {\n",
              "        vertical-align: middle;\n",
              "    }\n",
              "\n",
              "    .dataframe tbody tr th {\n",
              "        vertical-align: top;\n",
              "    }\n",
              "\n",
              "    .dataframe thead th {\n",
              "        text-align: right;\n",
              "    }\n",
              "</style>\n",
              "<table border=\"1\" class=\"dataframe\">\n",
              "  <thead>\n",
              "    <tr style=\"text-align: right;\">\n",
              "      <th></th>\n",
              "      <th>AnswerText</th>\n",
              "      <th>SurveyID</th>\n",
              "      <th>UserID</th>\n",
              "      <th>QuestionID</th>\n",
              "    </tr>\n",
              "  </thead>\n",
              "  <tbody>\n",
              "    <tr>\n",
              "      <th>0</th>\n",
              "      <td>37</td>\n",
              "      <td>2014</td>\n",
              "      <td>1</td>\n",
              "      <td>1</td>\n",
              "    </tr>\n",
              "    <tr>\n",
              "      <th>1</th>\n",
              "      <td>44</td>\n",
              "      <td>2014</td>\n",
              "      <td>2</td>\n",
              "      <td>1</td>\n",
              "    </tr>\n",
              "    <tr>\n",
              "      <th>2</th>\n",
              "      <td>32</td>\n",
              "      <td>2014</td>\n",
              "      <td>3</td>\n",
              "      <td>1</td>\n",
              "    </tr>\n",
              "    <tr>\n",
              "      <th>3</th>\n",
              "      <td>31</td>\n",
              "      <td>2014</td>\n",
              "      <td>4</td>\n",
              "      <td>1</td>\n",
              "    </tr>\n",
              "    <tr>\n",
              "      <th>4</th>\n",
              "      <td>31</td>\n",
              "      <td>2014</td>\n",
              "      <td>5</td>\n",
              "      <td>1</td>\n",
              "    </tr>\n",
              "  </tbody>\n",
              "</table>\n",
              "</div>"
            ],
            "text/plain": [
              "  AnswerText  SurveyID  UserID  QuestionID\n",
              "0         37      2014       1           1\n",
              "1         44      2014       2           1\n",
              "2         32      2014       3           1\n",
              "3         31      2014       4           1\n",
              "4         31      2014       5           1"
            ]
          },
          "metadata": {
            "tags": []
          },
          "execution_count": 22
        }
      ]
    },
    {
      "cell_type": "code",
      "metadata": {
        "colab": {
          "base_uri": "https://localhost:8080/",
          "height": 204
        },
        "id": "WOmcPvyOTg9u",
        "outputId": "38cff8e7-9aba-4191-8103-e3c284f022cf"
      },
      "source": [
        "pd.read_sql(\"SELECT * FROM Question LIMIT 5\", db_engine)"
      ],
      "execution_count": 28,
      "outputs": [
        {
          "output_type": "execute_result",
          "data": {
            "text/html": [
              "<div>\n",
              "<style scoped>\n",
              "    .dataframe tbody tr th:only-of-type {\n",
              "        vertical-align: middle;\n",
              "    }\n",
              "\n",
              "    .dataframe tbody tr th {\n",
              "        vertical-align: top;\n",
              "    }\n",
              "\n",
              "    .dataframe thead th {\n",
              "        text-align: right;\n",
              "    }\n",
              "</style>\n",
              "<table border=\"1\" class=\"dataframe\">\n",
              "  <thead>\n",
              "    <tr style=\"text-align: right;\">\n",
              "      <th></th>\n",
              "      <th>questiontext</th>\n",
              "      <th>questionid</th>\n",
              "    </tr>\n",
              "  </thead>\n",
              "  <tbody>\n",
              "    <tr>\n",
              "      <th>0</th>\n",
              "      <td>What is your age?</td>\n",
              "      <td>1</td>\n",
              "    </tr>\n",
              "    <tr>\n",
              "      <th>1</th>\n",
              "      <td>What is your gender?</td>\n",
              "      <td>2</td>\n",
              "    </tr>\n",
              "    <tr>\n",
              "      <th>2</th>\n",
              "      <td>What country do you live in?</td>\n",
              "      <td>3</td>\n",
              "    </tr>\n",
              "    <tr>\n",
              "      <th>3</th>\n",
              "      <td>If you live in the United States, which state ...</td>\n",
              "      <td>4</td>\n",
              "    </tr>\n",
              "    <tr>\n",
              "      <th>4</th>\n",
              "      <td>Are you self-employed?</td>\n",
              "      <td>5</td>\n",
              "    </tr>\n",
              "  </tbody>\n",
              "</table>\n",
              "</div>"
            ],
            "text/plain": [
              "                                        questiontext  questionid\n",
              "0                                  What is your age?           1\n",
              "1                               What is your gender?           2\n",
              "2                       What country do you live in?           3\n",
              "3  If you live in the United States, which state ...           4\n",
              "4                             Are you self-employed?           5"
            ]
          },
          "metadata": {
            "tags": []
          },
          "execution_count": 28
        }
      ]
    },
    {
      "cell_type": "code",
      "metadata": {
        "colab": {
          "base_uri": "https://localhost:8080/",
          "height": 204
        },
        "id": "AB1OyuGATw28",
        "outputId": "641fd88c-1795-4632-e81e-954359740d7b"
      },
      "source": [
        "pd.read_sql(\"SELECT * FROM Survey LIMIT 5\", db_engine)"
      ],
      "execution_count": 27,
      "outputs": [
        {
          "output_type": "execute_result",
          "data": {
            "text/html": [
              "<div>\n",
              "<style scoped>\n",
              "    .dataframe tbody tr th:only-of-type {\n",
              "        vertical-align: middle;\n",
              "    }\n",
              "\n",
              "    .dataframe tbody tr th {\n",
              "        vertical-align: top;\n",
              "    }\n",
              "\n",
              "    .dataframe thead th {\n",
              "        text-align: right;\n",
              "    }\n",
              "</style>\n",
              "<table border=\"1\" class=\"dataframe\">\n",
              "  <thead>\n",
              "    <tr style=\"text-align: right;\">\n",
              "      <th></th>\n",
              "      <th>SurveyID</th>\n",
              "      <th>Description</th>\n",
              "    </tr>\n",
              "  </thead>\n",
              "  <tbody>\n",
              "    <tr>\n",
              "      <th>0</th>\n",
              "      <td>2014</td>\n",
              "      <td>mental health survey for 2014</td>\n",
              "    </tr>\n",
              "    <tr>\n",
              "      <th>1</th>\n",
              "      <td>2016</td>\n",
              "      <td>mental health survey for 2016</td>\n",
              "    </tr>\n",
              "    <tr>\n",
              "      <th>2</th>\n",
              "      <td>2017</td>\n",
              "      <td>mental health survey for 2017</td>\n",
              "    </tr>\n",
              "    <tr>\n",
              "      <th>3</th>\n",
              "      <td>2018</td>\n",
              "      <td>mental health survey for 2018</td>\n",
              "    </tr>\n",
              "    <tr>\n",
              "      <th>4</th>\n",
              "      <td>2019</td>\n",
              "      <td>mental health survey for 2019</td>\n",
              "    </tr>\n",
              "  </tbody>\n",
              "</table>\n",
              "</div>"
            ],
            "text/plain": [
              "   SurveyID                    Description\n",
              "0      2014  mental health survey for 2014\n",
              "1      2016  mental health survey for 2016\n",
              "2      2017  mental health survey for 2017\n",
              "3      2018  mental health survey for 2018\n",
              "4      2019  mental health survey for 2019"
            ]
          },
          "metadata": {
            "tags": []
          },
          "execution_count": 27
        }
      ]
    },
    {
      "cell_type": "markdown",
      "metadata": {
        "id": "Ksp0VYLfWLr1"
      },
      "source": [
        "Pretty straight forward, we have questions and answers from different people.\n",
        "\n",
        "Ideally, we would want all of this into a single data frame. We can use a simple JOIN to get that. Note that we don't need the Survey table."
      ]
    },
    {
      "cell_type": "code",
      "metadata": {
        "colab": {
          "base_uri": "https://localhost:8080/",
          "height": 204
        },
        "id": "Vs-VjDz-W04p",
        "outputId": "77f7cf56-8d94-4f8a-9026-9edd13815272"
      },
      "source": [
        "sql_statement = \"\"\"\n",
        "SELECT Answer.*, Question.questiontext\n",
        "FROM Answer\n",
        "INNER JOIN Question ON Answer.QuestionID=Question.questionid\n",
        "\"\"\"\n",
        "survey_df = pd.read_sql(sql_statement, db_engine)\n",
        "survey_df.head()"
      ],
      "execution_count": 36,
      "outputs": [
        {
          "output_type": "execute_result",
          "data": {
            "text/html": [
              "<div>\n",
              "<style scoped>\n",
              "    .dataframe tbody tr th:only-of-type {\n",
              "        vertical-align: middle;\n",
              "    }\n",
              "\n",
              "    .dataframe tbody tr th {\n",
              "        vertical-align: top;\n",
              "    }\n",
              "\n",
              "    .dataframe thead th {\n",
              "        text-align: right;\n",
              "    }\n",
              "</style>\n",
              "<table border=\"1\" class=\"dataframe\">\n",
              "  <thead>\n",
              "    <tr style=\"text-align: right;\">\n",
              "      <th></th>\n",
              "      <th>AnswerText</th>\n",
              "      <th>SurveyID</th>\n",
              "      <th>UserID</th>\n",
              "      <th>QuestionID</th>\n",
              "      <th>questiontext</th>\n",
              "    </tr>\n",
              "  </thead>\n",
              "  <tbody>\n",
              "    <tr>\n",
              "      <th>0</th>\n",
              "      <td>37</td>\n",
              "      <td>2014</td>\n",
              "      <td>1</td>\n",
              "      <td>1</td>\n",
              "      <td>What is your age?</td>\n",
              "    </tr>\n",
              "    <tr>\n",
              "      <th>1</th>\n",
              "      <td>44</td>\n",
              "      <td>2014</td>\n",
              "      <td>2</td>\n",
              "      <td>1</td>\n",
              "      <td>What is your age?</td>\n",
              "    </tr>\n",
              "    <tr>\n",
              "      <th>2</th>\n",
              "      <td>32</td>\n",
              "      <td>2014</td>\n",
              "      <td>3</td>\n",
              "      <td>1</td>\n",
              "      <td>What is your age?</td>\n",
              "    </tr>\n",
              "    <tr>\n",
              "      <th>3</th>\n",
              "      <td>31</td>\n",
              "      <td>2014</td>\n",
              "      <td>4</td>\n",
              "      <td>1</td>\n",
              "      <td>What is your age?</td>\n",
              "    </tr>\n",
              "    <tr>\n",
              "      <th>4</th>\n",
              "      <td>31</td>\n",
              "      <td>2014</td>\n",
              "      <td>5</td>\n",
              "      <td>1</td>\n",
              "      <td>What is your age?</td>\n",
              "    </tr>\n",
              "  </tbody>\n",
              "</table>\n",
              "</div>"
            ],
            "text/plain": [
              "  AnswerText  SurveyID  UserID  QuestionID       questiontext\n",
              "0         37      2014       1           1  What is your age?\n",
              "1         44      2014       2           1  What is your age?\n",
              "2         32      2014       3           1  What is your age?\n",
              "3         31      2014       4           1  What is your age?\n",
              "4         31      2014       5           1  What is your age?"
            ]
          },
          "metadata": {
            "tags": []
          },
          "execution_count": 36
        }
      ]
    },
    {
      "cell_type": "markdown",
      "metadata": {
        "id": "cqKlXFJibjXa"
      },
      "source": [
        "You can use this same technique for datasets with millions of rows to get a regular Pandas data frame and go from there."
      ]
    },
    {
      "cell_type": "markdown",
      "metadata": {
        "id": "LCIfubtEdLeS"
      },
      "source": [
        "## Text data"
      ]
    },
    {
      "cell_type": "markdown",
      "metadata": {
        "id": "RUMkNcTpdSJ5"
      },
      "source": [
        "## Image data"
      ]
    },
    {
      "cell_type": "markdown",
      "metadata": {
        "id": "VK9ONQRm1qmV"
      },
      "source": [
        "## Labelling\n",
        "\n",
        "Don't have enough or no data at all? You can create your own datasets! Yes, but that is not an easy task."
      ]
    },
    {
      "cell_type": "markdown",
      "metadata": {
        "id": "a7kfMBJxvIN-"
      },
      "source": [
        "## Look at the data"
      ]
    },
    {
      "cell_type": "markdown",
      "metadata": {
        "id": "eEOTqNmnumwd"
      },
      "source": [
        "## Is the data clean?"
      ]
    },
    {
      "cell_type": "markdown",
      "metadata": {
        "id": "V4NY9HIAwM49"
      },
      "source": [
        "## Splitting"
      ]
    },
    {
      "cell_type": "markdown",
      "metadata": {
        "id": "MMrtiUT9s2DB"
      },
      "source": [
        "## Versioning"
      ]
    }
  ]
}