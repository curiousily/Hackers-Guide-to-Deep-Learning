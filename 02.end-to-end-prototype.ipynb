{
  "nbformat": 4,
  "nbformat_minor": 0,
  "metadata": {
    "colab": {
      "name": "02.end-to-end-prototype.ipynb",
      "provenance": [],
      "collapsed_sections": [],
      "authorship_tag": "ABX9TyNZalXNpfUDsNDShu+iBZk4"
    },
    "kernelspec": {
      "name": "python3",
      "display_name": "Python 3"
    }
  },
  "cells": [
    {
      "cell_type": "markdown",
      "metadata": {
        "id": "o1NCK5Omuu9c"
      },
      "source": [
        "## The lifecycle of a Machine Learning project\n",
        "\n",
        "- Planning/choosing a goal\n",
        "- Data collection & labelling\n",
        "- Creating features & preprocessing\n",
        "- Training and optimization\n",
        "- Deployment\n",
        "\n",
        "## Planning\n",
        "\n",
        "Choosing what to work on and what is the measurement of success is the most important part of the project.\n",
        "\n",
        "Get help here! Ask domain experts, business people, meditate on it. Do spend some time to think about it. But don't linger for too long. Analysis paralysis is a very common phenomenon in the real world!\n",
        "\n",
        "## Prototyping a baseline model\n",
        "\n",
        "Jupyter notebooks are a great prototyping/experimentation tool. You can use a notebook(s) to get some quick ideas about the feasibility and performance of a model.\n",
        "\n",
        "After you get some results, you'll proceed to create a full-blown project containing the baseline model. This will be a lot of work, but some rewards you might expect are bug fixes, new ideas, and developing something that (hopefully) has a real-world impact.\n",
        "\n",
        "Next, we'll go over an example task of automating the decision of whether a bank customer has good or bad credit risk.\n",
        "\n",
        "### Getting your data\n",
        "\n",
        "If you haven't solved any real-world ML problems yet, you might believe that most datasets get stored as CSV files. While this format is great when learning, you'll often need to understand SQL, pickle, HDF5, Parquet, and many more. \n",
        "\n",
        "#### Labeling\n",
        "\n",
        "Sometimes your data will have labels, but it might not be exactly the data you need. Other times, you'll miss labels altogether. What can you do?\n",
        "\n",
        "Creating a labeling infrastructure will be time well spent, for sure. Increasing the data size and reducing the noise in your data (having less wrong data) will dramatically increase the predictive power of your model(s).\n",
        "\n",
        "You will always want more and cleaner data. So keep getting it, slowly but surely. At some point, you'll notice you start getting diminishing returns. Depending on the problem you're solving, it might be a good idea to focus on other issues in the project.\n",
        "\n",
        "#### Looking at the data\n",
        "\n",
        "This might sound boring and complete nonsense but go through different examples from the data. Can you figure out the labels for each one? Are the labels correct? Are the labels consistent?\n",
        "\n",
        "Remember, feeding your model with crappy data will give you garbage results. At this stage of the project, you don't want to deal with crap - there will be plenty later on."
      ]
    },
    {
      "cell_type": "code",
      "metadata": {
        "id": "zLWr26p1hL3N",
        "outputId": "ce4a6947-0c1e-4364-905b-fff0f6699579",
        "colab": {
          "base_uri": "https://localhost:8080/"
        }
      },
      "source": [
        "from sklearn import datasets\n",
        "\n",
        "features, targets = datasets.fetch_openml(\n",
        "    name=\"credit-g\", \n",
        "    version=1, \n",
        "    return_X_y=True, \n",
        "    as_frame=True\n",
        ")\n",
        "\n",
        "features.shape, targets.shape"
      ],
      "execution_count": 1,
      "outputs": [
        {
          "output_type": "execute_result",
          "data": {
            "text/plain": [
              "((1000, 20), (1000,))"
            ]
          },
          "metadata": {
            "tags": []
          },
          "execution_count": 1
        }
      ]
    },
    {
      "cell_type": "code",
      "metadata": {
        "id": "g0Gh4sIYjIYp",
        "outputId": "ac5a8e0f-6974-4993-ec41-f611d0f251a0",
        "colab": {
          "base_uri": "https://localhost:8080/",
          "height": 258
        }
      },
      "source": [
        "features.head()"
      ],
      "execution_count": 2,
      "outputs": [
        {
          "output_type": "execute_result",
          "data": {
            "text/html": [
              "<div>\n",
              "<style scoped>\n",
              "    .dataframe tbody tr th:only-of-type {\n",
              "        vertical-align: middle;\n",
              "    }\n",
              "\n",
              "    .dataframe tbody tr th {\n",
              "        vertical-align: top;\n",
              "    }\n",
              "\n",
              "    .dataframe thead th {\n",
              "        text-align: right;\n",
              "    }\n",
              "</style>\n",
              "<table border=\"1\" class=\"dataframe\">\n",
              "  <thead>\n",
              "    <tr style=\"text-align: right;\">\n",
              "      <th></th>\n",
              "      <th>checking_status</th>\n",
              "      <th>duration</th>\n",
              "      <th>credit_history</th>\n",
              "      <th>purpose</th>\n",
              "      <th>credit_amount</th>\n",
              "      <th>savings_status</th>\n",
              "      <th>employment</th>\n",
              "      <th>installment_commitment</th>\n",
              "      <th>personal_status</th>\n",
              "      <th>other_parties</th>\n",
              "      <th>residence_since</th>\n",
              "      <th>property_magnitude</th>\n",
              "      <th>age</th>\n",
              "      <th>other_payment_plans</th>\n",
              "      <th>housing</th>\n",
              "      <th>existing_credits</th>\n",
              "      <th>job</th>\n",
              "      <th>num_dependents</th>\n",
              "      <th>own_telephone</th>\n",
              "      <th>foreign_worker</th>\n",
              "    </tr>\n",
              "  </thead>\n",
              "  <tbody>\n",
              "    <tr>\n",
              "      <th>0</th>\n",
              "      <td>&lt;0</td>\n",
              "      <td>6.0</td>\n",
              "      <td>critical/other existing credit</td>\n",
              "      <td>radio/tv</td>\n",
              "      <td>1169.0</td>\n",
              "      <td>no known savings</td>\n",
              "      <td>&gt;=7</td>\n",
              "      <td>4.0</td>\n",
              "      <td>male single</td>\n",
              "      <td>none</td>\n",
              "      <td>4.0</td>\n",
              "      <td>real estate</td>\n",
              "      <td>67.0</td>\n",
              "      <td>none</td>\n",
              "      <td>own</td>\n",
              "      <td>2.0</td>\n",
              "      <td>skilled</td>\n",
              "      <td>1.0</td>\n",
              "      <td>yes</td>\n",
              "      <td>yes</td>\n",
              "    </tr>\n",
              "    <tr>\n",
              "      <th>1</th>\n",
              "      <td>0&lt;=X&lt;200</td>\n",
              "      <td>48.0</td>\n",
              "      <td>existing paid</td>\n",
              "      <td>radio/tv</td>\n",
              "      <td>5951.0</td>\n",
              "      <td>&lt;100</td>\n",
              "      <td>1&lt;=X&lt;4</td>\n",
              "      <td>2.0</td>\n",
              "      <td>female div/dep/mar</td>\n",
              "      <td>none</td>\n",
              "      <td>2.0</td>\n",
              "      <td>real estate</td>\n",
              "      <td>22.0</td>\n",
              "      <td>none</td>\n",
              "      <td>own</td>\n",
              "      <td>1.0</td>\n",
              "      <td>skilled</td>\n",
              "      <td>1.0</td>\n",
              "      <td>none</td>\n",
              "      <td>yes</td>\n",
              "    </tr>\n",
              "    <tr>\n",
              "      <th>2</th>\n",
              "      <td>no checking</td>\n",
              "      <td>12.0</td>\n",
              "      <td>critical/other existing credit</td>\n",
              "      <td>education</td>\n",
              "      <td>2096.0</td>\n",
              "      <td>&lt;100</td>\n",
              "      <td>4&lt;=X&lt;7</td>\n",
              "      <td>2.0</td>\n",
              "      <td>male single</td>\n",
              "      <td>none</td>\n",
              "      <td>3.0</td>\n",
              "      <td>real estate</td>\n",
              "      <td>49.0</td>\n",
              "      <td>none</td>\n",
              "      <td>own</td>\n",
              "      <td>1.0</td>\n",
              "      <td>unskilled resident</td>\n",
              "      <td>2.0</td>\n",
              "      <td>none</td>\n",
              "      <td>yes</td>\n",
              "    </tr>\n",
              "    <tr>\n",
              "      <th>3</th>\n",
              "      <td>&lt;0</td>\n",
              "      <td>42.0</td>\n",
              "      <td>existing paid</td>\n",
              "      <td>furniture/equipment</td>\n",
              "      <td>7882.0</td>\n",
              "      <td>&lt;100</td>\n",
              "      <td>4&lt;=X&lt;7</td>\n",
              "      <td>2.0</td>\n",
              "      <td>male single</td>\n",
              "      <td>guarantor</td>\n",
              "      <td>4.0</td>\n",
              "      <td>life insurance</td>\n",
              "      <td>45.0</td>\n",
              "      <td>none</td>\n",
              "      <td>for free</td>\n",
              "      <td>1.0</td>\n",
              "      <td>skilled</td>\n",
              "      <td>2.0</td>\n",
              "      <td>none</td>\n",
              "      <td>yes</td>\n",
              "    </tr>\n",
              "    <tr>\n",
              "      <th>4</th>\n",
              "      <td>&lt;0</td>\n",
              "      <td>24.0</td>\n",
              "      <td>delayed previously</td>\n",
              "      <td>new car</td>\n",
              "      <td>4870.0</td>\n",
              "      <td>&lt;100</td>\n",
              "      <td>1&lt;=X&lt;4</td>\n",
              "      <td>3.0</td>\n",
              "      <td>male single</td>\n",
              "      <td>none</td>\n",
              "      <td>4.0</td>\n",
              "      <td>no known property</td>\n",
              "      <td>53.0</td>\n",
              "      <td>none</td>\n",
              "      <td>for free</td>\n",
              "      <td>2.0</td>\n",
              "      <td>skilled</td>\n",
              "      <td>2.0</td>\n",
              "      <td>none</td>\n",
              "      <td>yes</td>\n",
              "    </tr>\n",
              "  </tbody>\n",
              "</table>\n",
              "</div>"
            ],
            "text/plain": [
              "  checking_status  duration  ... own_telephone foreign_worker\n",
              "0              <0       6.0  ...           yes            yes\n",
              "1        0<=X<200      48.0  ...          none            yes\n",
              "2     no checking      12.0  ...          none            yes\n",
              "3              <0      42.0  ...          none            yes\n",
              "4              <0      24.0  ...          none            yes\n",
              "\n",
              "[5 rows x 20 columns]"
            ]
          },
          "metadata": {
            "tags": []
          },
          "execution_count": 2
        }
      ]
    },
    {
      "cell_type": "code",
      "metadata": {
        "id": "-OwBps8WjnFd",
        "outputId": "d2f8df62-7ac0-48cf-95de-1e7aac44fce6",
        "colab": {
          "base_uri": "https://localhost:8080/"
        }
      },
      "source": [
        "targets.head()"
      ],
      "execution_count": 3,
      "outputs": [
        {
          "output_type": "execute_result",
          "data": {
            "text/plain": [
              "0    good\n",
              "1     bad\n",
              "2    good\n",
              "3    good\n",
              "4     bad\n",
              "Name: class, dtype: category\n",
              "Categories (2, object): ['good', 'bad']"
            ]
          },
          "metadata": {
            "tags": []
          },
          "execution_count": 3
        }
      ]
    },
    {
      "cell_type": "code",
      "metadata": {
        "id": "BPGdO9NDjRvj",
        "outputId": "f064365a-200e-4646-9cff-0700da11e35c",
        "colab": {
          "base_uri": "https://localhost:8080/"
        }
      },
      "source": [
        "targets.value_counts()"
      ],
      "execution_count": 4,
      "outputs": [
        {
          "output_type": "execute_result",
          "data": {
            "text/plain": [
              "good    700\n",
              "bad     300\n",
              "Name: class, dtype: int64"
            ]
          },
          "metadata": {
            "tags": []
          },
          "execution_count": 4
        }
      ]
    },
    {
      "cell_type": "markdown",
      "metadata": {
        "id": "UKdbVd65hRB3"
      },
      "source": [
        "### Note on reproducibility\n"
      ]
    },
    {
      "cell_type": "code",
      "metadata": {
        "id": "NjHmi34rhUHs",
        "outputId": "cb92706b-d23f-4719-d130-14c7d3884927",
        "colab": {
          "base_uri": "https://localhost:8080/"
        }
      },
      "source": [
        "import random\n",
        "import numpy as np\n",
        "import torch\n",
        "\n",
        "RANDOM_SEED = 42\n",
        "\n",
        "random.seed(RANDOM_SEED)\n",
        "np.random.seed(RANDOM_SEED + 1)\n",
        "torch.manual_seed(RANDOM_SEED + 2)"
      ],
      "execution_count": 5,
      "outputs": [
        {
          "output_type": "execute_result",
          "data": {
            "text/plain": [
              "<torch._C.Generator at 0x7faea7acd528>"
            ]
          },
          "metadata": {
            "tags": []
          },
          "execution_count": 5
        }
      ]
    },
    {
      "cell_type": "markdown",
      "metadata": {
        "id": "LPsMlYol0xR8"
      },
      "source": [
        "## Feature engineering\n",
        "\n",
        "One of the advantages of Deep Neural Networks is to automate the process of feature engineering. At least, that was the grand promise.\n",
        "\n",
        "In practice, adding manual features might significantly improve the performance of your model. But creating good features is black magic. Ideas for those come almost always from spending absurd amounts of time with the raw data.\n",
        "\n",
        "Start by thinking of a couple of features and encode them. Use classical ML algorithms (like Random Forest) to evaluate their importance. Those features will be prime candidates for inclusion in your Deep Learning model later on."
      ]
    },
    {
      "cell_type": "code",
      "metadata": {
        "id": "VN9NAzHGRmv-"
      },
      "source": [
        "FEATURES = [\n",
        "  \"duration\", \n",
        "  \"credit_amount\", \n",
        "  \"age\", \n",
        "  \"existing_credits\", \n",
        "  \"residence_since\"\n",
        "]"
      ],
      "execution_count": 6,
      "outputs": []
    },
    {
      "cell_type": "code",
      "metadata": {
        "id": "VjpbflwHTiIk"
      },
      "source": [
        "from sklearn.model_selection import train_test_split\n",
        "from sklearn import preprocessing\n",
        "\n",
        "X_train, X_test, y_train, y_test = train_test_split(\n",
        "  features[FEATURES], \n",
        "  targets, \n",
        "  test_size=0.2\n",
        ")\n",
        "\n",
        "label_encoder = preprocessing.LabelEncoder()\n",
        "label_encoder = label_encoder.fit(y_train)\n",
        "\n",
        "X_train = X_train.to_numpy()\n",
        "y_train = label_encoder.transform(y_train)\n",
        "\n",
        "X_test = X_test.to_numpy()\n",
        "y_test = label_encoder.transform(y_test)"
      ],
      "execution_count": 7,
      "outputs": []
    },
    {
      "cell_type": "code",
      "metadata": {
        "id": "AdNUJ8vcV6tG",
        "outputId": "1858bc30-07e3-4449-eeef-df920cc62974",
        "colab": {
          "base_uri": "https://localhost:8080/"
        }
      },
      "source": [
        "X_train.shape, y_train.shape"
      ],
      "execution_count": 8,
      "outputs": [
        {
          "output_type": "execute_result",
          "data": {
            "text/plain": [
              "((800, 5), (800,))"
            ]
          },
          "metadata": {
            "tags": []
          },
          "execution_count": 8
        }
      ]
    },
    {
      "cell_type": "code",
      "metadata": {
        "id": "H8JOKrC_Ba5p",
        "outputId": "c5f12b57-983a-4865-deb9-2e0494a23baa",
        "colab": {
          "base_uri": "https://localhost:8080/"
        }
      },
      "source": [
        "X_test.shape, y_test.shape"
      ],
      "execution_count": 9,
      "outputs": [
        {
          "output_type": "execute_result",
          "data": {
            "text/plain": [
              "((200, 5), (200,))"
            ]
          },
          "metadata": {
            "tags": []
          },
          "execution_count": 9
        }
      ]
    },
    {
      "cell_type": "markdown",
      "metadata": {
        "id": "AuCyNBEtCJKN"
      },
      "source": [
        "## Training and evaluation\n",
        "\n",
        "Training a Deep Neural Net using any of the popular libraries for Deep Learning is relatively straightforward. That is given you keep playing with toy examples.\n",
        "\n",
        "In practice, the training might include a lot of hacks that change the generic process just a bit - enough to introduce bugs and write tons of incomprehensive code.\n",
        "\n",
        "Using a library like scikit-learn is a great first choice for building a baseline model. It takes very little time, the code is easier to understand and you can gain a lot of insight into the problem you're solving. \n",
        "\n",
        "Here's a quick example of how you can use a Random Forest classifier:"
      ]
    },
    {
      "cell_type": "code",
      "metadata": {
        "id": "AtLtUfIacGkY"
      },
      "source": [
        "from sklearn.ensemble import RandomForestClassifier\n",
        "\n",
        "model = RandomForestClassifier(n_estimators=200)\n",
        "model = model.fit(X_train, y_train)"
      ],
      "execution_count": 10,
      "outputs": []
    },
    {
      "cell_type": "code",
      "metadata": {
        "id": "nYvnUJrpR-jR",
        "outputId": "0830cc0b-2ea2-4655-ec53-4edadd133829",
        "colab": {
          "base_uri": "https://localhost:8080/"
        }
      },
      "source": [
        "model.score(X_test, y_test)"
      ],
      "execution_count": 11,
      "outputs": [
        {
          "output_type": "execute_result",
          "data": {
            "text/plain": [
              "0.68"
            ]
          },
          "metadata": {
            "tags": []
          },
          "execution_count": 11
        }
      ]
    },
    {
      "cell_type": "markdown",
      "metadata": {
        "id": "1t107ZfNb3NC"
      },
      "source": [
        "### Training a Deep Neural Net in PyTorch\n",
        "\n",
        "That is a great start, but we're interested in building a Neural Net. Let's create a simple one using PyTorch:"
      ]
    },
    {
      "cell_type": "code",
      "metadata": {
        "id": "YEanO7_kb4Ka"
      },
      "source": [
        "import torch.nn as nn\n",
        "import torch.nn.functional as F\n",
        "import torch.optim as optim\n",
        "\n",
        "class CreditTypeClassifierNet(nn.Module):\n",
        "\n",
        "  def __init__(self, n_features, n_credit_types):\n",
        "    super(CreditTypeClassifierNet, self).__init__()\n",
        "    self.fc1 = nn.Linear(n_features, n_features * 2)\n",
        "    self.fc2 = nn.Linear(n_features * 2, n_credit_types)\n",
        "\n",
        "  def forward(self, x):    \n",
        "    x = F.relu(self.fc1(x))\n",
        "    x = self.fc2(x)\n",
        "    return x\n",
        "\n",
        "  def create_optimizer(self):\n",
        "    return optim.Adam(self.parameters(), lr=0.01)\n",
        "\n",
        "  def create_criterion(self):\n",
        "    return nn.CrossEntropyLoss()"
      ],
      "execution_count": 12,
      "outputs": []
    },
    {
      "cell_type": "code",
      "metadata": {
        "id": "Si1cR-r5cnRo"
      },
      "source": [
        "model = CreditTypeClassifierNet(len(FEATURES), 2)"
      ],
      "execution_count": 13,
      "outputs": []
    },
    {
      "cell_type": "code",
      "metadata": {
        "id": "TexXGN8xcwc0",
        "outputId": "06ce8d39-0be2-4d5e-b5e7-8516b8e2a987",
        "colab": {
          "base_uri": "https://localhost:8080/"
        }
      },
      "source": [
        "model"
      ],
      "execution_count": 14,
      "outputs": [
        {
          "output_type": "execute_result",
          "data": {
            "text/plain": [
              "CreditTypeClassifierNet(\n",
              "  (fc1): Linear(in_features=5, out_features=10, bias=True)\n",
              "  (fc2): Linear(in_features=10, out_features=2, bias=True)\n",
              ")"
            ]
          },
          "metadata": {
            "tags": []
          },
          "execution_count": 14
        }
      ]
    },
    {
      "cell_type": "code",
      "metadata": {
        "id": "w-jPxg2OgXZD"
      },
      "source": [
        "class Phase:\n",
        "  TRAIN = \"train\"\n",
        "  TEST = \"test\""
      ],
      "execution_count": 15,
      "outputs": []
    },
    {
      "cell_type": "code",
      "metadata": {
        "id": "F9c1_YnIZRUq"
      },
      "source": [
        "class Evaluator:\n",
        "\n",
        "  def __init__(self, criterion):\n",
        "    self.criterion = criterion\n",
        "\n",
        "  def eval(self, model, X, y, phase: Phase):\n",
        "    with torch.set_grad_enabled(phase == Phase.TRAIN):\n",
        "      model = model.train() if phase == Phase.TRAIN else model.eval()\n",
        "      outputs = model(X)\n",
        "      loss = self.criterion(outputs, y)\n",
        "\n",
        "      _, predicted = outputs.max(dim=1)\n",
        "      correct = (predicted == y).sum().item()\n",
        "      accuracy = correct / len(X)\n",
        "\n",
        "      return loss, accuracy"
      ],
      "execution_count": 16,
      "outputs": []
    },
    {
      "cell_type": "code",
      "metadata": {
        "id": "t9iV5bB6f7yL"
      },
      "source": [
        "class ProgressLogger:\n",
        "\n",
        "  @staticmethod\n",
        "  def _round(value, precision=3):\n",
        "    return np.round(value, precision)\n",
        "\n",
        "  @staticmethod\n",
        "  def log(epoch, train_loss, train_accuracy, test_loss, test_accuracy):\n",
        "    print(f\"Epoch {epoch + 1}\")\n",
        "    print(f\"Train: loss {ProgressLogger._round(train_loss.item())} accuracy {ProgressLogger._round(train_accuracy)}\")\n",
        "    print(f\"Test:  loss {ProgressLogger._round(test_loss.item(), 3)} accuracy {ProgressLogger._round(test_accuracy)}\")\n",
        "    print()"
      ],
      "execution_count": 17,
      "outputs": []
    },
    {
      "cell_type": "code",
      "metadata": {
        "id": "_pH3DkN6jA0K"
      },
      "source": [
        "class Trainer:\n",
        "\n",
        "  def __init__(self, X_train, y_train, X_test, y_test):\n",
        "    self.X_train = torch.from_numpy(X_train).float()\n",
        "    self.y_train = torch.from_numpy(y_train)\n",
        "\n",
        "    self.X_test = torch.from_numpy(X_test).float()\n",
        "    self.y_test = torch.from_numpy(y_test)\n",
        "\n",
        "  def train(self, model, n_epochs):\n",
        "    criterion = model.create_criterion()\n",
        "    optimizer = model.create_optimizer()\n",
        "\n",
        "    evaluator = Evaluator(criterion)\n",
        "\n",
        "    for epoch in range(n_epochs):\n",
        "      optimizer.zero_grad()\n",
        "\n",
        "      train_loss, train_accuracy = evaluator.eval(model, self.X_train, self.y_train, Phase.TRAIN)\n",
        "      test_loss, test_accuracy = evaluator.eval(model, self.X_test, self.y_test, Phase.TEST)\n",
        "\n",
        "      ProgressLogger.log(epoch, train_loss, train_accuracy, test_loss, test_accuracy)\n",
        "\n",
        "      train_loss.backward()\n",
        "\n",
        "      optimizer.step()"
      ],
      "execution_count": 18,
      "outputs": []
    },
    {
      "cell_type": "code",
      "metadata": {
        "id": "aAb5LpP9Rwrx",
        "outputId": "7ccf2bad-107c-48eb-be7f-33d9ca3e6a9e",
        "colab": {
          "base_uri": "https://localhost:8080/"
        }
      },
      "source": [
        "trainer = Trainer(X_train, y_train, X_test, y_test)\n",
        "trainer.train(model, n_epochs=20)"
      ],
      "execution_count": 19,
      "outputs": [
        {
          "output_type": "stream",
          "text": [
            "Epoch 1\n",
            "Train: loss 436.077 accuracy 0.294\n",
            "Test:  loss 416.996 accuracy 0.325\n",
            "\n",
            "Epoch 2\n",
            "Train: loss 345.797 accuracy 0.294\n",
            "Test:  loss 330.661 accuracy 0.325\n",
            "\n",
            "Epoch 3\n",
            "Train: loss 258.207 accuracy 0.294\n",
            "Test:  loss 246.899 accuracy 0.325\n",
            "\n",
            "Epoch 4\n",
            "Train: loss 173.306 accuracy 0.294\n",
            "Test:  loss 165.709 accuracy 0.325\n",
            "\n",
            "Epoch 5\n",
            "Train: loss 91.889 accuracy 0.294\n",
            "Test:  loss 87.85 accuracy 0.325\n",
            "\n",
            "Epoch 6\n",
            "Train: loss 12.628 accuracy 0.298\n",
            "Test:  loss 12.055 accuracy 0.325\n",
            "\n",
            "Epoch 7\n",
            "Train: loss 35.822 accuracy 0.706\n",
            "Test:  loss 36.999 accuracy 0.675\n",
            "\n",
            "Epoch 8\n",
            "Train: loss 67.098 accuracy 0.706\n",
            "Test:  loss 69.282 accuracy 0.675\n",
            "\n",
            "Epoch 9\n",
            "Train: loss 89.082 accuracy 0.706\n",
            "Test:  loss 91.975 accuracy 0.675\n",
            "\n",
            "Epoch 10\n",
            "Train: loss 103.587 accuracy 0.706\n",
            "Test:  loss 106.948 accuracy 0.675\n",
            "\n",
            "Epoch 11\n",
            "Train: loss 112.0 accuracy 0.706\n",
            "Test:  loss 115.633 accuracy 0.675\n",
            "\n",
            "Epoch 12\n",
            "Train: loss 115.412 accuracy 0.706\n",
            "Test:  loss 119.156 accuracy 0.675\n",
            "\n",
            "Epoch 13\n",
            "Train: loss 114.692 accuracy 0.706\n",
            "Test:  loss 118.414 accuracy 0.675\n",
            "\n",
            "Epoch 14\n",
            "Train: loss 110.54 accuracy 0.706\n",
            "Test:  loss 114.129 accuracy 0.675\n",
            "\n",
            "Epoch 15\n",
            "Train: loss 103.527 accuracy 0.706\n",
            "Test:  loss 106.892 accuracy 0.675\n",
            "\n",
            "Epoch 16\n",
            "Train: loss 94.117 accuracy 0.706\n",
            "Test:  loss 97.18 accuracy 0.675\n",
            "\n",
            "Epoch 17\n",
            "Train: loss 82.691 accuracy 0.706\n",
            "Test:  loss 85.387 accuracy 0.675\n",
            "\n",
            "Epoch 18\n",
            "Train: loss 69.557 accuracy 0.706\n",
            "Test:  loss 71.831 accuracy 0.675\n",
            "\n",
            "Epoch 19\n",
            "Train: loss 54.965 accuracy 0.706\n",
            "Test:  loss 56.771 accuracy 0.675\n",
            "\n",
            "Epoch 20\n",
            "Train: loss 39.116 accuracy 0.706\n",
            "Test:  loss 40.412 accuracy 0.675\n",
            "\n"
          ],
          "name": "stdout"
        }
      ]
    },
    {
      "cell_type": "markdown",
      "metadata": {
        "id": "GOZBSAhhj4do"
      },
      "source": [
        "### Evaluation\n",
        "\n",
        "How well will your model do in production? To answer this question, you need answers to the following two:\n",
        "\n",
        "- What resources (CPU, GPU, RAM and disk space) do my model need to run? What is the expected response time?\n",
        "- How well will the predicted values match the real ones?\n",
        "\n",
        "You can usually answer the first question using a variety of tools from the software development world (like time, top and htop). However, you need to take into account the size of the input data. If you're loading into memory large text or image data, they might overflow and crash your program. Make sure you know the bounds of your data.\n",
        "\n",
        "How good your model predictions are? A wide variety of statistical tests are available to evaluate the performance of different models. And they are very good at what they do. But having large amounts of data changes the game a little bit. You can use simple tools like accuracy, confusion matrix, precision, recall and apply appropriate thresholding. Proper evaluation of your model can be done only if you're intimately familiar with the domain.\n",
        "\n",
        "One critical step in the process is looking at errors. Where your model makes errors? You should manually go through some errors to get a feel for them. How do you solve those? One simple and effective way to make your model better - add more data, matching the conditions where the model makes errors."
      ]
    },
    {
      "cell_type": "markdown",
      "metadata": {
        "id": "kQFeb6yF033N"
      },
      "source": [
        "## Deployment\n",
        "\n",
        "Deploying your model allows you to get your work to your users. It might be that millions will use it (given you work at a company like Google) or just you. Either way, you'll need to make your model available.\n",
        "\n",
        "The most common way of deploying your model is behind a REST API. You can also embed it into a user's device (building a mobile app for iOS or Android).\n",
        "\n",
        "### Building an API"
      ]
    }
  ]
}