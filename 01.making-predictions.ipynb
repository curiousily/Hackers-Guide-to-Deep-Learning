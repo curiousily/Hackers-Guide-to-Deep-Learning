{
  "nbformat": 4,
  "nbformat_minor": 0,
  "metadata": {
    "colab": {
      "name": "01.making-predictions.ipynb",
      "provenance": [],
      "collapsed_sections": [],
      "authorship_tag": "ABX9TyOIvkk6+GVAsuQ2BcP/9tbt"
    },
    "kernelspec": {
      "name": "python3",
      "display_name": "Python 3"
    }
  },
  "cells": [
    {
      "cell_type": "markdown",
      "metadata": {
        "id": "gguoUjRZK1_u"
      },
      "source": [
        "Most of your work is related to how well this one single function performs:\n",
        "\n",
        "```python\n",
        "def predict(data):\n",
        "  ...\n",
        "```\n",
        "\n",
        "To the untrained eye, this looks deceptively simple. Isn't this just one function? I can guarantee you you're about to develop a love-hate relationship with it!\n",
        "\n",
        "In reality, when dealing with Deep Learning the `predict()` function can have a simple implementation:"
      ]
    },
    {
      "cell_type": "code",
      "metadata": {
        "id": "95qgz9cdMN_2"
      },
      "source": [
        ""
      ],
      "execution_count": null,
      "outputs": []
    }
  ]
}