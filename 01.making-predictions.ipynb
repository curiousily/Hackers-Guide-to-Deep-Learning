{
  "nbformat": 4,
  "nbformat_minor": 0,
  "metadata": {
    "colab": {
      "name": "01.making-predictions.ipynb",
      "provenance": [],
      "collapsed_sections": [],
      "authorship_tag": "ABX9TyOh1IWgwI6F1wPg6miMhqZf"
    },
    "kernelspec": {
      "name": "python3",
      "display_name": "Python 3"
    }
  },
  "cells": [
    {
      "cell_type": "markdown",
      "metadata": {
        "id": "gguoUjRZK1_u"
      },
      "source": [
        "Most of your work is related to how well this one single function performs:\n",
        "\n",
        "```python\n",
        "def predict(data):\n",
        "  ...\n",
        "```\n",
        "\n",
        "To the untrained eye, this looks deceptively simple. Isn't this just one function? I can guarantee you you're about to develop a love-hate relationship with it!\n",
        "\n",
        "In reality, when dealing with Deep Learning the `predict()` function can have a simple implementation:\n",
        "\n",
        "```python\n",
        "def predict(data):\n",
        "  return data * weight\n",
        "```\n",
        "\n",
        "But what does `weight` contain? This is the \"brains\" of your model. Without good weight - you don't get to drink Corona on your favorite beach, washboard abs, and hotties around you.\n",
        "\n",
        "### How can you get some good weights for yourself?\n",
        "\n",
        "There are some ways to find good weight values, but let's start with something really dumb (a good baseline if you will) and improve on that (hopefully, in a non-linear fashion).\n",
        "\n",
        "Let's say you need to predict the Tesla stock price. The current price is 420 USD. What will be the price in a minute?"
      ]
    },
    {
      "cell_type": "code",
      "metadata": {
        "id": "2VF8HOqSOGME"
      },
      "source": [
        "WEIGHT = 1.01\n",
        "\n",
        "def predict(data):\n",
        "  return data * WEIGHT"
      ],
      "execution_count": 5,
      "outputs": []
    },
    {
      "cell_type": "markdown",
      "metadata": {
        "id": "inabMRKbU7l6"
      },
      "source": [
        "Actually, this is your first model. Congratulations! Let's use it:"
      ]
    },
    {
      "cell_type": "code",
      "metadata": {
        "id": "8z8_bBHaUmmJ",
        "outputId": "6d7da8d7-81ab-4f53-f86f-6fce6034002b",
        "colab": {
          "base_uri": "https://localhost:8080/",
          "height": 35
        }
      },
      "source": [
        "current_stock_price = 420\n",
        "\n",
        "prediction = predict(current_stock_price)\n",
        "\n",
        "f\"Predicted Tesla stock price is {prediction} USD\""
      ],
      "execution_count": 6,
      "outputs": [
        {
          "output_type": "execute_result",
          "data": {
            "application/vnd.google.colaboratory.intrinsic+json": {
              "type": "string"
            },
            "text/plain": [
              "'Predicted Tesla stock price is 424.2 USD'"
            ]
          },
          "metadata": {
            "tags": []
          },
          "execution_count": 6
        }
      ]
    },
    {
      "cell_type": "markdown",
      "metadata": {
        "id": "0-SZZ61CWUOp"
      },
      "source": [
        "Yes, it works! Unfortunately, the real price is 425 USD. How can you use this information to make your model better?\n",
        "\n",
        "One popular way is to start by measuring the error of the prediction:"
      ]
    },
    {
      "cell_type": "code",
      "metadata": {
        "id": "l6U1xrjwVHUW",
        "outputId": "555df02c-7c1a-4ed5-ac06-548d853c13f0",
        "colab": {
          "base_uri": "https://localhost:8080/",
          "height": 34
        }
      },
      "source": [
        "import torch\n",
        "import torch.nn.functional as F\n",
        "\n",
        "real_next_price = 425\n",
        "\n",
        "error = F.mse_loss(\n",
        "  input=torch.tensor(prediction), \n",
        "  target=torch.tensor(real_next_price)\n",
        ")\n",
        "\n",
        "error"
      ],
      "execution_count": 20,
      "outputs": [
        {
          "output_type": "execute_result",
          "data": {
            "text/plain": [
              "tensor(0.6400)"
            ]
          },
          "metadata": {
            "tags": []
          },
          "execution_count": 20
        }
      ]
    },
    {
      "cell_type": "markdown",
      "metadata": {
        "id": "OQg4ZXy8anws"
      },
      "source": [
        "Great, now you have a concrete goal - reduce the error to 0. We can continue with our dumb strategy of guessing weight values:"
      ]
    },
    {
      "cell_type": "code",
      "metadata": {
        "id": "k69QHbNFXE1B"
      },
      "source": [
        ""
      ],
      "execution_count": null,
      "outputs": []
    }
  ]
}